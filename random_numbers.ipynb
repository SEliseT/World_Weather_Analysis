{
 "cells": [
  {
   "cell_type": "code",
   "execution_count": 17,
   "id": "4c0146aa",
   "metadata": {},
   "outputs": [],
   "source": [
    "# Import the random module.\n",
    "import random"
   ]
  },
  {
   "cell_type": "code",
   "execution_count": 18,
   "id": "ac22d0be",
   "metadata": {},
   "outputs": [
    {
     "data": {
      "text/plain": [
       "8"
      ]
     },
     "execution_count": 18,
     "metadata": {},
     "output_type": "execute_result"
    }
   ],
   "source": [
    "random.randint(-90, 90)"
   ]
  },
  {
   "cell_type": "code",
   "execution_count": 19,
   "id": "459436d4",
   "metadata": {},
   "outputs": [
    {
     "data": {
      "text/plain": [
       "0.7104451308488292"
      ]
     },
     "execution_count": 19,
     "metadata": {},
     "output_type": "execute_result"
    }
   ],
   "source": [
    "random.random()"
   ]
  },
  {
   "cell_type": "code",
   "execution_count": 35,
   "id": "10881b1a",
   "metadata": {
    "scrolled": true
   },
   "outputs": [
    {
     "data": {
      "text/plain": [
       "[24.99191633895105,\n",
       " 67.60862647766467,\n",
       " -31.289168099625687,\n",
       " -11.577431832461619,\n",
       " -44.690321970636674,\n",
       " -36.9566245924304,\n",
       " -52.746562253018034,\n",
       " -49.046573697157406,\n",
       " -3.56249138056862,\n",
       " -24.451118326202334]"
      ]
     },
     "execution_count": 35,
     "metadata": {},
     "output_type": "execute_result"
    }
   ],
   "source": [
    "x = 1\n",
    "latitudes = []\n",
    "while x < 11:\n",
    "   random_lat = random.randint(-90, 89) + random.random()\n",
    "   latitudes.append(random_lat)\n",
    "   x += 1\n",
    "latitudes"
   ]
  },
  {
   "cell_type": "code",
   "execution_count": 36,
   "id": "b107cddc",
   "metadata": {},
   "outputs": [
    {
     "data": {
      "text/plain": [
       "[24.99191633895105,\n",
       " 67.60862647766467,\n",
       " -31.289168099625687,\n",
       " -11.577431832461619,\n",
       " -44.690321970636674,\n",
       " -36.9566245924304,\n",
       " -52.746562253018034,\n",
       " -49.046573697157406,\n",
       " -3.56249138056862,\n",
       " -24.451118326202334]"
      ]
     },
     "execution_count": 36,
     "metadata": {},
     "output_type": "execute_result"
    }
   ],
   "source": [
    "latitudes"
   ]
  },
  {
   "cell_type": "code",
   "execution_count": 37,
   "id": "fe1318a7",
   "metadata": {
    "scrolled": true
   },
   "outputs": [
    {
     "data": {
      "text/plain": [
       "-27"
      ]
     },
     "execution_count": 37,
     "metadata": {},
     "output_type": "execute_result"
    }
   ],
   "source": [
    "random.randrange(-90, 90, step=1)"
   ]
  },
  {
   "cell_type": "code",
   "execution_count": 38,
   "id": "611591a9",
   "metadata": {},
   "outputs": [
    {
     "data": {
      "text/plain": [
       "18"
      ]
     },
     "execution_count": 38,
     "metadata": {},
     "output_type": "execute_result"
    }
   ],
   "source": [
    "random.randrange(-90, 90, step=3)"
   ]
  },
  {
   "cell_type": "code",
   "execution_count": 39,
   "id": "c4a907c0",
   "metadata": {},
   "outputs": [
    {
     "data": {
      "text/plain": [
       "11.586974339710054"
      ]
     },
     "execution_count": 39,
     "metadata": {},
     "output_type": "execute_result"
    }
   ],
   "source": [
    "random.uniform(-90, 90)"
   ]
  },
  {
   "cell_type": "code",
   "execution_count": 40,
   "id": "c0f7dbf0",
   "metadata": {},
   "outputs": [],
   "source": [
    "# Import the NumPy module.\n",
    "import numpy as np"
   ]
  },
  {
   "cell_type": "code",
   "execution_count": 41,
   "id": "17afbcd5",
   "metadata": {},
   "outputs": [
    {
     "data": {
      "text/plain": [
       "-87.27754318862047"
      ]
     },
     "execution_count": 41,
     "metadata": {},
     "output_type": "execute_result"
    }
   ],
   "source": [
    "np.random.uniform(-90.000, 90.000)"
   ]
  },
  {
   "cell_type": "code",
   "execution_count": 42,
   "id": "ad00262a",
   "metadata": {},
   "outputs": [
    {
     "data": {
      "text/plain": [
       "array([-71.52524564,  14.05102717,  13.40285035, -80.8196405 ,\n",
       "       -10.16907777,  -4.29367875,   6.52637863,   7.89764789,\n",
       "       -20.16393554, -44.49583519,  -5.4230899 ,  57.2363486 ,\n",
       "       -15.76873331, -56.58828525,  54.00416084,  66.19473842,\n",
       "       -25.50060941,  72.17689278,  39.86910863, -28.48452571,\n",
       "        65.13959148,   1.0122516 ,  49.08407519,  24.8004854 ,\n",
       "       -26.88470406, -67.45787419,  28.61979116, -89.5555009 ,\n",
       "         1.11154521,  -4.5344101 ,  -9.64895543, -10.2231462 ,\n",
       "       -37.76607676, -52.2021145 , -70.04298441,  14.44742751,\n",
       "       -12.98842407,  89.80964482,  51.95307438, -54.27178627,\n",
       "        53.08071395,  35.11758489, -29.44954988, -62.02611913,\n",
       "        -2.69151626, -89.29596859,  75.26999948,  63.995514  ,\n",
       "         0.49905207,  53.1993906 ])"
      ]
     },
     "execution_count": 42,
     "metadata": {},
     "output_type": "execute_result"
    }
   ],
   "source": [
    "np.random.uniform(-90.000, 90.000, size=50)"
   ]
  },
  {
   "cell_type": "code",
   "execution_count": 43,
   "id": "d0b5e66e",
   "metadata": {},
   "outputs": [],
   "source": [
    "# Import timeit.\n",
    "import timeit"
   ]
  },
  {
   "cell_type": "code",
   "execution_count": 44,
   "id": "202b4296",
   "metadata": {},
   "outputs": [
    {
     "name": "stdout",
     "output_type": "stream",
     "text": [
      "12 µs ± 65.7 ns per loop (mean ± std. dev. of 7 runs, 100000 loops each)\n"
     ]
    }
   ],
   "source": [
    "%timeit np.random.uniform(-90.000, 90.000, size=1500)"
   ]
  },
  {
   "cell_type": "code",
   "execution_count": 45,
   "id": "c883042e",
   "metadata": {},
   "outputs": [
    {
     "name": "stdout",
     "output_type": "stream",
     "text": [
      "1.2 ms ± 5.21 µs per loop (mean ± std. dev. of 7 runs, 1000 loops each)\n"
     ]
    }
   ],
   "source": [
    "def latitudes(size):\n",
    "    latitudes = []\n",
    "    x = 0\n",
    "    while x < (size):\n",
    "        random_lat = random.randint(-90, 90) + random.random()\n",
    "        latitudes.append(random_lat)\n",
    "        x += 1\n",
    "    return latitudes\n",
    "# Call the function with 1500.\n",
    "%timeit latitudes(1500)"
   ]
  },
  {
   "cell_type": "code",
   "execution_count": null,
   "id": "4fa1912f",
   "metadata": {},
   "outputs": [],
   "source": []
  }
 ],
 "metadata": {
  "kernelspec": {
   "display_name": "Python 3 (ipykernel)",
   "language": "python",
   "name": "python3"
  },
  "language_info": {
   "codemirror_mode": {
    "name": "ipython",
    "version": 3
   },
   "file_extension": ".py",
   "mimetype": "text/x-python",
   "name": "python",
   "nbconvert_exporter": "python",
   "pygments_lexer": "ipython3",
   "version": "3.9.7"
  }
 },
 "nbformat": 4,
 "nbformat_minor": 5
}
